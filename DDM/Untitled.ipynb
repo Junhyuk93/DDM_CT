{
 "cells": [
  {
   "cell_type": "code",
   "execution_count": 6,
   "id": "0e269484-5162-405c-9f45-69927ac02a4d",
   "metadata": {},
   "outputs": [
    {
     "data": {
      "text/plain": [
       "(512, 512, 36)"
      ]
     },
     "execution_count": 6,
     "metadata": {},
     "output_type": "execute_result"
    }
   ],
   "source": [
    "import scipy\n",
    "from scipy import io\n",
    "# jhpark1@promedius.dev@curiosity:/mnt/dataset/BrainCT_anogan/trainset/normal/brainct_8bit_normal_png$ find . -type f | wc -l\n",
    "# 3dgeneration/DDM_/data/ACDC_dataset/train/data_ED_ES/1352209648_2.mat\n",
    "mat_file = scipy.io.loadmat('/home/jhpark1/3dgeneration/DDM_/data/ACDC_dataset/train/data_ED_ES/1352209648_2.mat')\n",
    "mat_file['image_ED'].shape"
   ]
  },
  {
   "cell_type": "code",
   "execution_count": null,
   "id": "80c28b83-daa7-4381-ad3c-fdba5565bb12",
   "metadata": {},
   "outputs": [],
   "source": []
  }
 ],
 "metadata": {
  "kernelspec": {
   "display_name": "Python 3 (ipykernel)",
   "language": "python",
   "name": "python3"
  },
  "language_info": {
   "codemirror_mode": {
    "name": "ipython",
    "version": 3
   },
   "file_extension": ".py",
   "mimetype": "text/x-python",
   "name": "python",
   "nbconvert_exporter": "python",
   "pygments_lexer": "ipython3",
   "version": "3.8.13"
  }
 },
 "nbformat": 4,
 "nbformat_minor": 5
}
